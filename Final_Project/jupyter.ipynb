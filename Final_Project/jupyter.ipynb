{
 "cells": [
  {
   "cell_type": "code",
   "execution_count": 32,
   "metadata": {},
   "outputs": [],
   "source": [
    "import pandas as pd\n",
    "import pymysql\n",
    "import matplotlib.pyplot as plt\n",
    "from sklearn.preprocessing import OneHotEncoder\n",
    "from sklearn.preprocessing import MinMaxScaler\n",
    "from sklearn.model_selection import train_test_split\n",
    "from sklearn.decomposition import TruncatedSVD\n",
    "from pandas import to_numeric\n",
    "from sklearn.linear_model import LinearRegression\n",
    "from sklearn.metrics import mean_squared_error\n",
    "from numpy.linalg import svd\n",
    "import numpy as np\n",
    "import csv\n",
    "from sklearn.metrics.pairwise import cosine_similarity\n",
    "from sklearn.ensemble import RandomForestRegressor\n",
    "from sklearn.metrics import f1_score\n",
    "from sklearn.metrics.pairwise import cosine_similarity\n",
    "from pandas.core.apply import frame_apply"
   ]
  },
  {
   "cell_type": "code",
   "execution_count": 33,
   "metadata": {},
   "outputs": [
    {
     "name": "stdout",
     "output_type": "stream",
     "text": [
      "(1, 3, '0780087529', '16-35', 3, 'Ibere Rya Bigogwe', ' Very Satisfied', 5, 'Male', 'Rural', 4, 1, 'North West', 'Open for Visit')\n"
     ]
    }
   ],
   "source": [
    "#connecting to the database\n",
    "\n",
    "databaseConnection =pymysql.connect(\n",
    "    user=\"root\", \n",
    "    password=\"\", \n",
    "    host=\"localhost\",\n",
    "    database=\"final_project_new\"\n",
    ")\n",
    "cursor =databaseConnection.cursor()\n",
    "cursor.execute(\"DESCRIBE fp_individual_visit_history\")\n",
    "columns = [col[0] for col in cursor.fetchall()]\n",
    "\n",
    "visitHistoryQuerry =\"select *from fp_individual_visit_history\"\n",
    "\n",
    "try:\n",
    "    cursor.execute(visitHistoryQuerry)\n",
    "\n",
    "    #fetch all records\n",
    "\n",
    "    historyDeatails =cursor.fetchall()\n",
    "    #for user in historyDeatails:\n",
    "        #print(\"Item Visited by \" ,user[1], \"is \", user[3])\n",
    "except:\n",
    "    print(\"Error: Connection Failured\")\n",
    "#creating a dataframe\n",
    "#by calling a pandas function\n",
    "print(historyDeatails[0])"
   ]
  },
  {
   "cell_type": "code",
   "execution_count": 34,
   "metadata": {},
   "outputs": [],
   "source": [
    "with open('final_project.csv', 'w', newline='') as f:\n",
    "    csv_writer = csv.writer(f)\n",
    "    csv_writer.writerow(columns)\n",
    "    csv_writer.writerows(historyDeatails)\n",
    "\n"
   ]
  },
  {
   "cell_type": "code",
   "execution_count": 38,
   "metadata": {},
   "outputs": [
    {
     "name": "stdout",
     "output_type": "stream",
     "text": [
      "______________________________________\n",
      "0    1.019175\n",
      "dtype: float64\n"
     ]
    }
   ],
   "source": [
    "ratings =pd.read_csv(\"../final_project.csv\", encoding = 'ISO-8859-1')\n",
    "# ratings =ratings.drop(['user_id'])\n",
    "rating_mapping = {\n",
    "    \"Very_Satisfied\": 5,\n",
    "    \"Satisfied\": 4,\n",
    "    \"Neutral\": 3,\n",
    "    \"Unsatisfied\": 2,\n",
    "    \"Very_Unsatisfied\": 1\n",
    "}\n",
    "\n",
    "#visit status on numeric \n",
    "visitinf_status_mapping = {\n",
    "    \"Open for Visit\": 2,\n",
    "    \"Closed for Visit\": 1\n",
    "}\n",
    "\n",
    "#ages on numeric\n",
    "ages_mapping = {\n",
    "    \"10-15\": 13,\n",
    "    \"16-35\": 26,\n",
    "    \"36-\":36\n",
    "}\n",
    "\n",
    "#numeric gender\n",
    "gender_mapping = {\n",
    "    \"Male\": 2,\n",
    "    \"Female\": 1\n",
    "}\n",
    "\n",
    "#residence mapping\n",
    "residence_mapping = {\n",
    "    \"Urban\": 2,\n",
    "    \"Rural\": 1\n",
    "}\n",
    "ratings[\"item_visiting_status\"] = ratings[\"item_visiting_status\"].map(visitinf_status_mapping)\n",
    "# pandaFrame[\"ages_range\"] = pandaFrame[\"ages_range\"].map(ages_mapping)\n",
    "ratings[\"rating\"] = ratings[\"rating\"].map(rating_mapping)\n",
    "ratings[\"user_gender\"] = ratings[\"user_gender\"].map(gender_mapping)\n",
    "ratings[\"user_residence\"] = ratings[\"user_residence\"].map(residence_mapping)\n",
    "ratings['user_phone'] = pd.to_numeric(ratings['user_phone'])\n",
    "\n",
    "encoder_items = OneHotEncoder()\n",
    "encoder_location = OneHotEncoder()\n",
    "encoder_ages = OneHotEncoder()\n",
    "\n",
    "encoder_ages.fit(ratings[['user_age']])\n",
    "encoded_user_ages =encoder_ages.transform(ratings[['user_age']])\n",
    "df_encoded_user_ages = pd.DataFrame(encoded_user_ages.toarray())\n",
    "df_encoded_user_ages.columns = encoder_ages.get_feature_names_out(['user_age'])\n",
    "ratings = pd.concat([ratings, df_encoded_user_ages], axis=1)\n",
    "\n",
    "\n",
    "#scalling item visited\n",
    "encoder_items.fit(ratings[['item_visited']])\n",
    "encoder_item_visited =encoder_items.transform(ratings[['item_visited']])\n",
    "\n",
    "df_item_visited =pd.DataFrame(encoder_item_visited.toarray())\n",
    "df_item_visited.columns = encoder_items.get_feature_names_out(['item_visited'])\n",
    "\n",
    "# ratings = pd.concat([ratings, df_item_visited], axis=1)\n",
    " \n",
    "encoder_location.fit(ratings[['item_location']])\n",
    "encoder_item_location =encoder_location.transform(ratings[['item_location']])\n",
    "df_item_location =pd.DataFrame(encoder_item_location.toarray())\n",
    "df_item_location.columns =encoder_location.get_feature_names_out(['item_location'])\n",
    "\n",
    "ratings = pd.concat([ratings, df_item_location], axis=1)\n",
    "nonrated =ratings\n",
    "\n",
    "ratings =ratings.pivot(index=['id'],columns='item_visited', values='rating')\n",
    "ratings =ratings.fillna(0)\n",
    "# print(ratings.head())\n",
    "# print(ratings.columns)\n",
    "\n",
    "def standardiserow(row):\n",
    "    new_row =(row-row.mean())/(row.max()-row.min())\n",
    "    return new_row\n",
    "\n",
    "ratings_std =ratings.apply(standardiserow)\n",
    "item_similarity =cosine_similarity(ratings_std.T)\n",
    "ratings_df =pd.DataFrame(item_similarity, index=ratings.columns, columns=ratings.columns)\n",
    "# ratings_df =ratings_df.fillna(0)\n",
    "# print(ratings_df.head())\n",
    "\n",
    "# similarity calculations\n",
    "def get_similar_items(itemId, ratings_given):\n",
    "    similar_scores =ratings_df[itemId]*(ratings_given -2.5)\n",
    "    similar_scores =similar_scores.sort_values(ascending=False)\n",
    "    return similar_scores\n",
    "\n",
    "item_lover =[('Amahamba',5),('Abiru',4),('Museum',5)]\n",
    "similar_items =pd.DataFrame()\n",
    "for itemId, ratings_given in item_lover:\n",
    "    similar_items =pd.concat([similar_items, get_similar_items(itemId,ratings_given)],ignore_index=True)   \n",
    "\n",
    "rowwise =similar_items.sum().sort_values(ascending=False)\n",
    "print(\"______________________________________\")\n",
    "print(rowwise) \n"
   ]
  },
  {
   "cell_type": "code",
   "execution_count": 39,
   "metadata": {},
   "outputs": [
    {
     "name": "stdout",
     "output_type": "stream",
     "text": [
      "(2346, 100)\n",
      "Training score using Random Forest:  0.9731142239365592\n",
      "Test score using Random Forest:  0.9964082190911316\n",
      "Accuracy of random forest: 0.98 (+/- 0.02)\n"
     ]
    },
    {
     "data": {
      "text/plain": [
       "array([2.73333333])"
      ]
     },
     "execution_count": 39,
     "metadata": {},
     "output_type": "execute_result"
    }
   ],
   "source": [
    "y = nonrated['rating'].fillna(0)\n",
    "\n",
    "svd = TruncatedSVD(n_components=100, random_state=42)\n",
    "svd.fit(ratings)\n",
    "\n",
    "X_transformed = svd.transform(ratings)\n",
    "print(X_transformed.shape)\n",
    "X_train, X_test, y_train, y_test = train_test_split(X_transformed, y, test_size=0.2, random_state=42)\n",
    "\n",
    "# X_train =X_train.fill(0)\n",
    "y_train =y_train.fillna(0)\n",
    "# X_test =X_test.fillna(0)\n",
    "y_test = y_test.fillna(0)\n",
    "reg = LinearRegression()\n",
    "reg.fit(X_train, y_train)\n",
    "\n",
    "# print(\"Training score using regression: \", reg.score(X_train, y_train))\n",
    "\n",
    "y_train_pred = reg.predict(X_train)\n",
    "y_test_pred = reg.predict(X_test)\n",
    "# print('predictions on X_train',y_train_pred)\n",
    "# print('predictions on X_test',y_test_pred)\n",
    "\n",
    "    \n",
    "# Evaluation Metrics\n",
    "# print(\"MSE train: \", mean_squared_error(y_train, y_train_pred))\n",
    "# print(\"MSE test: \", mean_squared_error(y_test, y_test_pred))\n",
    "\n",
    "\n",
    "rf = RandomForestRegressor(n_estimators=90)\n",
    "rf.fit(X_test, y_test)\n",
    "\n",
    "# Print the training score\n",
    "print(\"Training score using Random Forest: \", rf.score(X_train, y_train))\n",
    "print(\"Test score using Random Forest: \", rf.score(X_test, y_test))\n",
    "# print(\"Random forest predictions \",rf.predict([10,'Ibere Rya Bigogwe']) )\n",
    "# print(\"Random forest predictions \",rf.predict(X_train) )\n",
    "# print(\"Random forest predictions \",rf.predict(X_test) )\n",
    "\n",
    "from sklearn.model_selection import cross_val_score\n",
    "from sklearn.linear_model import LinearRegression\n",
    "\n",
    "# Use the cross_val_score function to perform k-fold cross-validation\n",
    "scoresreg = cross_val_score(reg, X_transformed, y, cv=5)\n",
    "scoresrand =cross_val_score(rf, X_transformed, y, cv=5)\n",
    "# Print the mean and standard deviation of the scores\n",
    "# print(\"Accuracy of linear regression: %0.2f (+/- %0.2f)\" % (scoresreg.mean(), scoresreg.std() * 2))\n",
    "print(\"Accuracy of random forest: %0.2f (+/- %0.2f)\" % (scoresrand.mean(), scoresrand.std() * 2))\n",
    "rf.predict([[5.]*100])\n"
   ]
  },
  {
   "cell_type": "code",
   "execution_count": 37,
   "metadata": {},
   "outputs": [],
   "source": [
    "# import pickle\n",
    "\n",
    "# with open('model.pkl','wb') as f:\n",
    "#   pickle.dump(reg,f)\n",
    "# print(\"------------------------------------------\")\n",
    "# print(get_similar_items(8,1))\n",
    "\n",
    "\n",
    "cursor.close()\n",
    "databaseConnection.close()"
   ]
  }
 ],
 "metadata": {
  "kernelspec": {
   "display_name": "Python 3",
   "language": "python",
   "name": "python3"
  },
  "language_info": {
   "codemirror_mode": {
    "name": "ipython",
    "version": 3
   },
   "file_extension": ".py",
   "mimetype": "text/x-python",
   "name": "python",
   "nbconvert_exporter": "python",
   "pygments_lexer": "ipython3",
   "version": "3.11.1 (tags/v3.11.1:a7a450f, Dec  6 2022, 19:58:39) [MSC v.1934 64 bit (AMD64)]"
  },
  "orig_nbformat": 4,
  "vscode": {
   "interpreter": {
    "hash": "1024fc1c84d9d393894ff0ae508183bc66ab1dc33e63cfc602fbbf4a77e727ad"
   }
  }
 },
 "nbformat": 4,
 "nbformat_minor": 2
}
